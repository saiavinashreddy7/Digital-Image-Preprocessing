{
 "cells": [
  {
   "cell_type": "code",
   "execution_count": 1,
   "metadata": {},
   "outputs": [],
   "source": [
    "from PIL import Image\n",
    "width, height = 1024, 1024\n",
    "image = Image.new(\"RGB\", (width, height), \"white\") \n",
    "stripe_width = 128  \n",
    "pixels = image.load()\n",
    "for y in range(height):\n",
    "    for x in range(width):\n",
    "        if (x // stripe_width) % 2 == 0:\n",
    "            pixels[x, y] = (0, 0, 0)  # Black\n",
    "        else:\n",
    "            pixels[x, y] = (255, 255, 255)  # White\n",
    " \n",
    "image.save(\"vertical_stripes.png\")\n",
    "image.show()"
   ]
  }
 ],
 "metadata": {
  "kernelspec": {
   "display_name": "dip",
   "language": "python",
   "name": "python3"
  },
  "language_info": {
   "codemirror_mode": {
    "name": "ipython",
    "version": 3
   },
   "file_extension": ".py",
   "mimetype": "text/x-python",
   "name": "python",
   "nbconvert_exporter": "python",
   "pygments_lexer": "ipython3",
   "version": "3.11.11"
  }
 },
 "nbformat": 4,
 "nbformat_minor": 2
}

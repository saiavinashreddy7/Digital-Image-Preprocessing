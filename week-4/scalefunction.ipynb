{
 "cells": [
  {
   "cell_type": "code",
   "execution_count": 4,
   "metadata": {},
   "outputs": [
    {
     "data": {
      "image/png": "[encoded data removed]",
      "text/plain": [
       "<Figure size 640x480 with 1 Axes>"
      ]
     },
     "metadata": {},
     "output_type": "display_data"
    }
   ],
   "source": [
    " #create a function \"scale_white_box(image,sx,sy)' to scale the white box with sx=2 and sy=1.\n",
    "import numpy as np\n",
    "import cv2\n",
    "import matplotlib.pyplot as plt\n",
    "def create_base_image(image_size=1000, box_size=100):\n",
    "    image = np.zeros((image_size, image_size), dtype=np.uint8)\n",
    "    center = image_size // 2\n",
    "    half_box = box_size // 2\n",
    "    image[center - half_box : center + half_box, center - half_box : center + half_box] = 255\n",
    "    return image\n",
    "def scale_white_box(image, sx, sy):\n",
    "    rows, cols = image.shape\n",
    "    scaled_image = cv2.resize(image, None, fx=sx, fy=sy, interpolation=cv2.INTER_NEAREST)\n",
    "    new_image = np.zeros((rows, cols), dtype=np.uint8)\n",
    "    center_x, center_y = cols // 2, rows // 2\n",
    "    scaled_h, scaled_w = scaled_image.shape\n",
    "    start_x = max(center_x - scaled_w // 2, 0)\n",
    "    start_y = max(center_y - scaled_h // 2, 0)\n",
    "    end_x = min(start_x + scaled_w, cols)\n",
    "    end_y = min(start_y + scaled_h, rows)\n",
    "    new_image[start_y:end_y, start_x:end_x] = scaled_image[: end_y - start_y, : end_x - start_x]\n",
    "    \n",
    "    return new_image\n",
    "\n",
    "image = create_base_image()\n",
    "\n",
    "scaled_image = scale_white_box(image, 2, 1)\n",
    "\n",
    "plt.imshow(scaled_image, cmap=\"gray\")\n",
    "plt.title(\"Scaled Image (sx=2, sy=1)\")\n",
    "plt.axis(\"off\")\n",
    "plt.show()"
   ]
  }
 ],
 "metadata": {
  "kernelspec": {
   "display_name": "dip",
   "language": "python",
   "name": "python3"
  },
  "language_info": {
   "codemirror_mode": {
    "name": "ipython",
    "version": 3
   },
   "file_extension": ".py",
   "mimetype": "text/x-python",
   "name": "python",
   "nbconvert_exporter": "python",
   "pygments_lexer": "ipython3",
   "version": "3.11.11"
  }
 },
 "nbformat": 4,
 "nbformat_minor": 2
}
